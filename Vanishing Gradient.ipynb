{
 "cells": [
  {
   "cell_type": "code",
   "execution_count": 7,
   "metadata": {
    "code_folding": [],
    "collapsed": true
   },
   "outputs": [],
   "source": [
    "# Standard imports\n",
    "import numpy as np\n",
    "import matplotlib.pylab as plt\n",
    "%matplotlib inline\n",
    "import network as Network\n",
    "import copy"
   ]
  },
  {
   "cell_type": "markdown",
   "metadata": {},
   "source": [
    "# Shallow vs. Deep Networks"
   ]
  },
  {
   "cell_type": "code",
   "execution_count": 8,
   "metadata": {
    "code_folding": [],
    "collapsed": true
   },
   "outputs": [],
   "source": [
    "# 5D -> 5D (line mapping)\n",
    "n_input = 5\n",
    "n_output = 5\n",
    "\n",
    "# Ill-conditioned matrix\n",
    "# Generate an ill-cond matrix, and map random outputs to inputs.\n",
    "# Then the task is to learn to inverst the matrix.\n",
    "N = n_input\n",
    "#np.random.seed(317)\n",
    "L = np.random.normal(size=[N,N])\n",
    "U, S, V = np.linalg.svd(L)\n",
    "S[-2] = 0.01\n",
    "S[-1] = 0.001\n",
    "Ltrue = np.dot(U, np.dot(np.diag(S), V.T))\n",
    "\n",
    "# Create a training dataset\n",
    "n_samples = 50\n",
    "training_output = []\n",
    "for idx in range(n_samples):\n",
    "    t = np.random.rand(n_output)*2 - 1.\n",
    "    training_output.append(t)\n",
    "    \n",
    "training_input = []\n",
    "for idx in range(n_samples):\n",
    "    x = np.dot(Ltrue, training_output[idx]) + np.random.normal(size=n_input, scale=0.1)\n",
    "    training_input.append(x)\n",
    "\n",
    "# Create a testing dataset\n",
    "n_samples = 50\n",
    "test_output = []\n",
    "for idx in range(n_samples):\n",
    "    t = np.random.rand(n_input)*2 - 1.\n",
    "    test_output.append(t)\n",
    "    \n",
    "test_input = []\n",
    "for idx in range(n_samples):\n",
    "    x = np.dot(Ltrue, test_output[idx]) + np.random.normal(size=[n_input], scale=0.1)\n",
    "    test_input.append(x)\n",
    "\n",
    "train = [training_input, training_output]\n",
    "test = [test_input, test_output]\n",
    "#perfect = [perfect_input, perfect_output]"
   ]
  },
  {
   "cell_type": "code",
   "execution_count": 9,
   "metadata": {
    "collapsed": true
   },
   "outputs": [],
   "source": [
    "# Two networks with the same number of hidden nodes\n",
    "shallow = Network.Network([5, 21, 5], type='regression')\n",
    "deep = Network.Network([5, 7, 7, 7, 5], type='regression')"
   ]
  },
  {
   "cell_type": "code",
   "execution_count": 10,
   "metadata": {
    "collapsed": false
   },
   "outputs": [
    {
     "name": "stdout",
     "output_type": "stream",
     "text": [
      "Shallow: 1.3380822208247523\n",
      "   Deep: 1.8390045077350248\n"
     ]
    }
   ],
   "source": [
    "print('Shallow: '+str(shallow.Evaluate(test)))\n",
    "print('   Deep: '+str(deep.Evaluate(test)))"
   ]
  },
  {
   "cell_type": "code",
   "execution_count": 11,
   "metadata": {
    "collapsed": false
   },
   "outputs": [
    {
     "data": {
      "application/vnd.jupyter.widget-view+json": {
       "model_id": "bf39ebcaf5c44236931ebfac5803d92f",
       "version_major": 2,
       "version_minor": 0
      },
      "text/plain": [
       "A Jupyter Widget"
      ]
     },
     "metadata": {},
     "output_type": "display_data"
    },
    {
     "data": {
      "application/vnd.jupyter.widget-view+json": {
       "model_id": "7508ce87838842259c0de1692e2d3866",
       "version_major": 2,
       "version_minor": 0
      },
      "text/plain": [
       "A Jupyter Widget"
      ]
     },
     "metadata": {},
     "output_type": "display_data"
    }
   ],
   "source": [
    "prog = shallow.Learn(train, epochs=500)\n",
    "prog = deep.Learn(train, epochs=500)"
   ]
  },
  {
   "cell_type": "code",
   "execution_count": 12,
   "metadata": {
    "collapsed": false
   },
   "outputs": [
    {
     "name": "stdout",
     "output_type": "stream",
     "text": [
      "Shallow: 0.9745982115820045\n",
      "   Deep: 0.3275295075990131\n"
     ]
    }
   ],
   "source": [
    "print('Shallow: '+str(shallow.Evaluate(test)))\n",
    "print('   Deep: '+str(deep.Evaluate(test)))"
   ]
  },
  {
   "cell_type": "code",
   "execution_count": 13,
   "metadata": {
    "code_folding": [
     0
    ],
    "collapsed": false
   },
   "outputs": [
    {
     "name": "stdout",
     "output_type": "stream",
     "text": [
      "Shallow: 0.13198921383461448\n",
      "   Deep: 0.3101549689131738\n"
     ]
    }
   ],
   "source": [
    "print('Shallow: '+str(shallow.Evaluate(train)))\n",
    "print('   Deep: '+str(deep.Evaluate(train)))"
   ]
  },
  {
   "cell_type": "markdown",
   "metadata": {},
   "source": [
    "### Let's try a REALLY deep network!"
   ]
  },
  {
   "cell_type": "code",
   "execution_count": 14,
   "metadata": {
    "collapsed": true
   },
   "outputs": [],
   "source": [
    "really_deep = Network.Network([5, 7, 7, 7, 7, 7, 7, 7, 7, 7, 7, 7, 7, 7, 5], type='regression')"
   ]
  },
  {
   "cell_type": "code",
   "execution_count": 15,
   "metadata": {
    "collapsed": false
   },
   "outputs": [
    {
     "data": {
      "application/vnd.jupyter.widget-view+json": {
       "model_id": "d53add5c8f8a4538ae3d900bf54dedba",
       "version_major": 2,
       "version_minor": 0
      },
      "text/plain": [
       "A Jupyter Widget"
      ]
     },
     "metadata": {},
     "output_type": "display_data"
    }
   ],
   "source": [
    "rdeep = really_deep.Learn(train, epochs=500)"
   ]
  },
  {
   "cell_type": "code",
   "execution_count": 16,
   "metadata": {
    "collapsed": false
   },
   "outputs": [
    {
     "data": {
      "text/plain": [
       "0.8553537144378951"
      ]
     },
     "execution_count": 16,
     "metadata": {},
     "output_type": "execute_result"
    }
   ],
   "source": [
    "really_deep.Evaluate(test)"
   ]
  },
  {
   "cell_type": "code",
   "execution_count": 17,
   "metadata": {
    "collapsed": false
   },
   "outputs": [
    {
     "data": {
      "text/plain": [
       "0.8422603741189725"
      ]
     },
     "execution_count": 17,
     "metadata": {},
     "output_type": "execute_result"
    }
   ],
   "source": [
    "really_deep.Evaluate(train)"
   ]
  },
  {
   "cell_type": "markdown",
   "metadata": {},
   "source": [
    "# Vanishing Gradients"
   ]
  },
  {
   "cell_type": "code",
   "execution_count": 18,
   "metadata": {
    "code_folding": [
     0
    ],
    "collapsed": true
   },
   "outputs": [],
   "source": [
    "# 1D -> 1D (line mapping)\n",
    "n_input = 1\n",
    "n_output = 1\n",
    "\n",
    "def myfunc(x):\n",
    "    return 0.4*x-0.9\n",
    "\n",
    "# Create a training dataset\n",
    "n_samples = 50\n",
    "training_output = []\n",
    "training_input = []\n",
    "xv = np.linspace(-1, 1, n_samples)\n",
    "for idx in range(n_samples):\n",
    "    #x = np.random.rand()*2. - 1.\n",
    "    x = xv[idx]\n",
    "    t = myfunc(x) + np.random.normal(scale=0.1)\n",
    "    training_input.append(np.array([x]))\n",
    "    training_output.append(np.array([t]))\n",
    "\n",
    "# Create a testing dataset\n",
    "n_samples = 50\n",
    "test_input = []\n",
    "test_output = []\n",
    "for idx in range(n_samples):\n",
    "    #x = np.random.rand()*2. - 1.\n",
    "    x = xv[idx] + np.random.normal(scale=0.1)\n",
    "    t = myfunc(x) + np.random.normal(scale=0.1)\n",
    "    test_input.append(np.array([x]))\n",
    "    test_output.append(np.array([t]))\n",
    "\n",
    "# Create a perfect dataset\n",
    "n_samples = 50\n",
    "perfect_input = []\n",
    "perfect_output = []\n",
    "for idx in range(n_samples):\n",
    "    #x = np.random.rand()*2. - 1.\n",
    "    x = test_input[idx]\n",
    "    t = myfunc(x[0])\n",
    "    perfect_input.append(np.array(x))\n",
    "    perfect_output.append(np.array(t))\n",
    "\n",
    "train = [training_input, training_output]\n",
    "test = [test_input, test_output]\n",
    "perfect = [perfect_input, perfect_output]"
   ]
  },
  {
   "cell_type": "code",
   "execution_count": 19,
   "metadata": {
    "code_folding": [
     0
    ],
    "collapsed": true
   },
   "outputs": [],
   "source": [
    "# Compute gradients using backprop\n",
    "def Backprop(net, t):\n",
    "    np.set_printoptions(precision=3)\n",
    "    print(str(net.n_layers)+' layers')\n",
    "    dEdz = net.h[-1] - t\n",
    "    print('layer '+str(net.n_layers-1)+' norm='+str(np.round(np.linalg.norm(dEdz),decimals=4))+' '+str(dEdz))\n",
    "    for l in range(net.n_layers-2, 0, -1):\n",
    "        dEdz = (net.h[l]*(1.-net.h[l])*np.dot(net.W[l].T, dEdz)).flatten()\n",
    "        print('layer '+str(l)+' norm='+str(np.round(np.linalg.norm(dEdz),decimals=4))+' '+str(dEdz))"
   ]
  },
  {
   "cell_type": "code",
   "execution_count": 20,
   "metadata": {
    "collapsed": true
   },
   "outputs": [],
   "source": [
    "net = Network.Network([1, 4, 4, 4, 4, 1], type='regression')"
   ]
  },
  {
   "cell_type": "code",
   "execution_count": 21,
   "metadata": {
    "collapsed": false
   },
   "outputs": [
    {
     "data": {
      "text/plain": [
       "array([-0.54504233])"
      ]
     },
     "execution_count": 21,
     "metadata": {},
     "output_type": "execute_result"
    }
   ],
   "source": [
    "p = np.random.randint(len(training_input))\n",
    "net.FeedForward(training_input[p])"
   ]
  },
  {
   "cell_type": "code",
   "execution_count": 22,
   "metadata": {
    "collapsed": false,
    "scrolled": false
   },
   "outputs": [
    {
     "name": "stdout",
     "output_type": "stream",
     "text": [
      "6 layers\n",
      "layer 5 norm=0.551 [0.551]\n",
      "layer 4 norm=0.1082 [-0.025 -0.084  0.002 -0.063]\n",
      "layer 3 norm=0.0274 [ 0.026 -0.    -0.005 -0.008]\n",
      "layer 2 norm=0.0114 [ 0.01   0.003  0.001 -0.005]\n",
      "layer 1 norm=0.0035 [-0.003  0.002  0.    -0.   ]\n"
     ]
    }
   ],
   "source": [
    "Backprop(net, training_output[p])"
   ]
  },
  {
   "cell_type": "code",
   "execution_count": 23,
   "metadata": {
    "collapsed": false
   },
   "outputs": [
    {
     "data": {
      "text/plain": [
       "[array([[ 0.148],\n",
       "        [-2.288],\n",
       "        [ 0.971],\n",
       "        [ 0.633]]), array([[-1.009,  0.601, -0.168, -0.088],\n",
       "        [-0.142, -0.378,  0.114,  0.303],\n",
       "        [ 0.003,  0.306,  0.27 ,  0.074],\n",
       "        [ 0.541, -0.575, -0.433,  0.185]]), array([[ 1.368,  0.522,  0.373, -0.928],\n",
       "        [ 0.258,  0.129, -1.   ,  0.137],\n",
       "        [ 0.464, -0.37 , -0.418,  0.018],\n",
       "        [-0.979,  0.206,  0.999,  0.198]]), array([[ 0.23 , -0.364,  0.096, -0.345],\n",
       "        [-0.829,  0.165,  0.397,  0.488],\n",
       "        [ 0.159, -0.129,  0.514,  0.399],\n",
       "        [-0.634, -0.067, -0.243, -0.012]]), array([[-0.194, -0.769,  0.017, -0.557]])]"
      ]
     },
     "execution_count": 23,
     "metadata": {},
     "output_type": "execute_result"
    }
   ],
   "source": [
    "net.W"
   ]
  },
  {
   "cell_type": "markdown",
   "metadata": {},
   "source": [
    "# Exploding Gradients"
   ]
  },
  {
   "cell_type": "code",
   "execution_count": 24,
   "metadata": {
    "collapsed": true
   },
   "outputs": [],
   "source": [
    "net2 = Network.Network([1, 1, 1, 1, 1, 1, 1], type='regression')\n",
    "for w in net2.W:\n",
    "    w[:] = 8.\n",
    "for b in net2.b:\n",
    "    b[:] = -4."
   ]
  },
  {
   "cell_type": "code",
   "execution_count": 25,
   "metadata": {
    "collapsed": false,
    "scrolled": true
   },
   "outputs": [
    {
     "data": {
      "text/plain": [
       "array([0.])"
      ]
     },
     "execution_count": 25,
     "metadata": {},
     "output_type": "execute_result"
    }
   ],
   "source": [
    "net2.FeedForward(np.array([0.5]))"
   ]
  },
  {
   "cell_type": "code",
   "execution_count": 26,
   "metadata": {
    "collapsed": false,
    "scrolled": true
   },
   "outputs": [
    {
     "name": "stdout",
     "output_type": "stream",
     "text": [
      "7 layers\n",
      "layer 6 norm=0.5 [-0.5]\n",
      "layer 5 norm=1.0 [-1.]\n",
      "layer 4 norm=2.0 [-2.]\n",
      "layer 3 norm=4.0 [-4.]\n",
      "layer 2 norm=8.0 [-8.]\n",
      "layer 1 norm=16.0 [-16.]\n"
     ]
    }
   ],
   "source": [
    "Backprop(net2, np.array([0.5]))"
   ]
  },
  {
   "cell_type": "code",
   "execution_count": null,
   "metadata": {
    "collapsed": true
   },
   "outputs": [],
   "source": []
  }
 ],
 "metadata": {
  "anaconda-cloud": {},
  "kernelspec": {
   "display_name": "Python [default]",
   "language": "python",
   "name": "python3"
  },
  "language_info": {
   "codemirror_mode": {
    "name": "ipython",
    "version": 3
   },
   "file_extension": ".py",
   "mimetype": "text/x-python",
   "name": "python",
   "nbconvert_exporter": "python",
   "pygments_lexer": "ipython3",
   "version": "3.5.2"
  }
 },
 "nbformat": 4,
 "nbformat_minor": 2
}
